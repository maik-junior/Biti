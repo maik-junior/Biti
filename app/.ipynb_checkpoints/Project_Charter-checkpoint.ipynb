{
 "cells": [
  {
   "cell_type": "markdown",
   "id": "b816739f-cd3a-4b92-9c92-ee5c9b9be9dc",
   "metadata": {},
   "source": [
    "# Project Charter: Biti Match\n",
    "**Descricao do Projeto:**<br> \n",
    "Desenvolvimento de um aplicativo que identifica o ritmo de uma música e encontra músicas semelhantes no Spotify.\n",
    "\n",
    "**Tipo de Aplicação:**<br> \n",
    "Aplicativo Web."
   ]
  },
  {
   "cell_type": "markdown",
   "id": "f5c9a323-d275-4c8a-be48-8eb85734184e",
   "metadata": {},
   "source": [
    "## Cliente\n",
    "\n",
    "Público Geral\n",
    "\n"
   ]
  },
  {
   "cell_type": "markdown",
   "id": "a7766737-1fe7-4f51-98d4-61b191202e9e",
   "metadata": {},
   "source": [
    "## Mentor\n",
    "\n",
    "Mentor (a):\n",
    "\n",
    "- Prf. Diego da Silva Rodrigues, diego.rodrigues@prof.infnet.edu.br"
   ]
  },
  {
   "cell_type": "markdown",
   "id": "ea130093-7e33-4387-b5b7-18b019b6f271",
   "metadata": {},
   "source": [
    "## Objetivo do Projeto\n",
    "Criar um aplicativo web que facilita a descoberta de músicas semelhantes no Spotify com base no ritmo."
   ]
  },
  {
   "cell_type": "markdown",
   "id": "e8f58083-31ee-48c6-9659-fe5aa0db7bb6",
   "metadata": {
    "jp-MarkdownHeadingCollapsed": true
   },
   "source": [
    "## Benefícios\n",
    "- Ajuda os usuários a encontrar novas músicas que correspondem ao seu gosto.\n",
    "- Acesso a músicas de língua estrangeira. "
   ]
  },
  {
   "attachments": {},
   "cell_type": "markdown",
   "id": "52ca4568-5755-410c-ad1d-9781c358925e",
   "metadata": {
    "jp-MarkdownHeadingCollapsed": true
   },
   "source": [
    "## Perfis de Usuários\n",
    "O aplicativo será usado pelos seguintes tipos de usuários:\n",
    "\n",
    "- Entusiastas de música \n",
    "- Produtores de conteúdo "
   ]
  },
  {
   "cell_type": "markdown",
   "id": "7da086a4-5946-4502-b21e-7bbbbd8fef3d",
   "metadata": {
    "jp-MarkdownHeadingCollapsed": true
   },
   "source": [
    "## Histórias por Perfil\n",
    "**Entusiastas de música:**<br>\n",
    "- Como apreciador de música quero ter acesso a mais musicas que dispertam em mim o mesmo sentimento de conexão.\n",
    "\n",
    "**Produtor de conteúdo:**<br>\n",
    "- Como produtor de conteúdo, aumentar o acervo de músicas para criação de vinhetas e conseguir se conectar com outros públicos descobrindo novos gêneros musicais."
   ]
  },
  {
   "cell_type": "markdown",
   "id": "5968af90-6554-43b9-80b5-f7b570b992fd",
   "metadata": {},
   "source": [
    "## Organização da Equipe\n",
    "**Estrutura da Equipe:**\n",
    "|||\n",
    "|---|---|\n",
    "|Líder de Equipe:| Coordenação geral, cronograma, orçamento e riscos.|\n",
    "|Arquiteto:| Design do banco de dados.|\n",
    "|Especialista em Dados:| Amostragem de dados.|\n",
    "|UX Designer:| Design das telas e experiência do usuário.|\n",
    "|Testes e Aceitação:| Testes e critérios de aceitação.|"
   ]
  },
  {
   "cell_type": "markdown",
   "id": "7679c7a3-8a91-4171-8c1a-322b286cd8ba",
   "metadata": {},
   "source": [
    "## Escopo"
   ]
  },
  {
   "cell_type": "markdown",
   "id": "92905fb1-963c-4dae-ae7e-8f26d5e0adbe",
   "metadata": {},
   "source": [
    "### Fase 1 - Concepção e Iniciação\n",
    "**Desenvolver uma visão inicial do projeto.**\n",
    "\n",
    "Entregáveis:\n",
    "\n",
    "- Canvas\n",
    "- Project Charter inicial\n",
    "- Histórias de usuários iniciais\n",
    "- Critérios de aceitação iniciais\n",
    "- Diagrama ER inicial\n",
    "- Dados de amostra iniciais\n",
    "- Esboços do projeto"
   ]
  },
  {
   "cell_type": "markdown",
   "id": "27756335-3dfd-46a1-9b91-dd6c064b3d10",
   "metadata": {},
   "source": [
    "### Fase 2 - Definição e Planejamento\n",
    "**Consolidar a visão do projeto e planejar o desenvolvimento.**\n",
    "\n",
    "Entregáveis:\n",
    "- Project Charter consolidado\n",
    "- Artefatos de suporte integrados\n",
    "- Decisões arquiteturais\n",
    "- Backlogs de produto"
   ]
  },
  {
   "cell_type": "markdown",
   "id": "115b720d-72c0-4787-aba9-785d8c83bd46",
   "metadata": {},
   "source": [
    "### Fase 3 - Implementação de Protótipos Arquitetônicos\n",
    "**Desenvolver protótipos para testar a arquitetura do projeto.**\n",
    "\n",
    "Entregáveis:\n",
    "\n",
    "- Protótipos funcionais streamlit\n",
    "- Plano de implementação final"
   ]
  },
  {
   "cell_type": "markdown",
   "id": "3922c958-d7d5-407c-b8b4-547a4581a986",
   "metadata": {
    "jp-MarkdownHeadingCollapsed": true
   },
   "source": [
    "### Fase 4 - Especificação de Requisitos do Sistema\n",
    "**Finalizar os requisitos para a fase de implementação.**\n",
    "\n",
    "Entregáveis:\n",
    "\n",
    "- A definir"
   ]
  },
  {
   "cell_type": "markdown",
   "id": "97cd5625-7eb8-4fed-bd17-b0228aa9f188",
   "metadata": {},
   "source": [
    "## Fora do Escopo\n",
    "**O seguinte está fora do escopo deste projeto:**\n",
    "\n",
    "Integração com plataformas que não sejam o Spotify."
   ]
  },
  {
   "cell_type": "markdown",
   "id": "9e53ea32-83fc-48bf-9eb6-96749fc707bf",
   "metadata": {},
   "source": [
    "## Cronograma\n",
    "**Cronograma Geral:**\n",
    "\n",
    "- Fase 1: Conclusão na semana 1.\n",
    "- Fase 2: Conclusão na semana 2.\n",
    "- Fase 3: Conclusão na semana 3.\n",
    "- Fase 4: A definir.\n",
    "\n",
    "**Milestones:**\n",
    "- Entrega do Canvas.\n",
    "- Entrega do Charter inicial.\n",
    "- Entrega de Wireframe\n",
    "- Protótipo funcional Streamlit."
   ]
  },
  {
   "cell_type": "markdown",
   "id": "83757418-f730-48b2-94d3-e9dfdbc1f702",
   "metadata": {},
   "source": [
    "## Orçamento\n",
    "O orçamento em termos de horas trabalho, considerando 7-12 horas semanais por 4 semanas."
   ]
  },
  {
   "cell_type": "markdown",
   "id": "c7c781c4-0b42-4622-8534-7b07f700a463",
   "metadata": {
    "jp-MarkdownHeadingCollapsed": true
   },
   "source": [
    "## Riscos\n",
    "**Identificação de Riscos:**\n",
    "\n",
    "- Falta de tecnologia\n",
    "- Dados inadequados\n",
    "- Carência técnica"
   ]
  },
  {
   "cell_type": "markdown",
   "id": "523910cc-8f70-4f21-bae1-ae99a7b8883e",
   "metadata": {},
   "source": [
    "## Critérios de Aceitação\n",
    "**Correspondência de Ritmo:**\n",
    "\n",
    "Quando o usuario faz o upload de uma musica, o aplicativo deve retornar uma lista de pelo menos 10 músicas com ritmos, gênero, e datas aproximadas.\n",
    "\n",
    "**Qualidade das Sugestões:**\n",
    "\n",
    "80% das músicas sugeridas devem ter mais de 50% de semelhança no espectro de ritmo, conforme analisado pelo algoritmo do aplicativo.\n",
    "\n",
    "**Facilidade de Acesso:**\n",
    "\n",
    "As sugestões de músicas devem carregar em menos de 5 segundos após a seleção da música de referência.\n",
    "O usuário deve ter a opção de ouvir um trecho de 120 segundos de cada música sugerida diretamente no aplicativo."
   ]
  }
 ],
 "metadata": {
  "kernelspec": {
   "display_name": "Python 3 (ipykernel)",
   "language": "python",
   "name": "python3"
  },
  "language_info": {
   "codemirror_mode": {
    "name": "ipython",
    "version": 3
   },
   "file_extension": ".py",
   "mimetype": "text/x-python",
   "name": "python",
   "nbconvert_exporter": "python",
   "pygments_lexer": "ipython3",
   "version": "3.11.9"
  }
 },
 "nbformat": 4,
 "nbformat_minor": 5
}
