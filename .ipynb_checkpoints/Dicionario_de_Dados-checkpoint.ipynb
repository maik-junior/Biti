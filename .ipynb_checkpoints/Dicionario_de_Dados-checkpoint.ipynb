{
 "cells": [
  {
   "cell_type": "markdown",
   "id": "9d222427-4f5e-4807-99a3-50face43d6e2",
   "metadata": {},
   "source": [
    "<p style=\"text-align: center; font-size: 30px; color: navy; font-weight: bold;\"> Dicionário de Dados - Análise de Áudio da Faixa</p>\n",
    "<p style=\"text-align: ''; font-size: 20px; color: black;\"> Obtenha uma análise de áudio detalhada para uma faixa no catálogo do Spotify. A análise de áudio descreve a estrutura e o conteúdo musical da faixa e ritmo.</p>"
   ]
  },
  {
   "cell_type": "markdown",
   "id": "8cd6716f-7a54-425b-8e73-75d9d2463ec0",
   "metadata": {},
   "source": [
    "---"
   ]
  },
  {
   "cell_type": "markdown",
   "id": "b2bcaf80-de01-4b33-bffd-3bcbac04c99e",
   "metadata": {},
   "source": [
    "| Método  | Endpoint                        | Parâmetro | Tipo    | Obrigatório | Descrição                                                                                             | Exemplo                         |\n",
    "|---------|---------------------------------|-----------|---------|-------------|-------------------------------------------------------------------------------------------------------|---------------------------------|\n",
    "| `GET`   | `/audio-analysis/{id}`          | `id`      | string  | Sim         | O ID do Spotify para a faixa.                                                                          | `11dFghVXANMlKmJXsNCbNl`        |\n",
    "\n",
    "### Respostas\n",
    "\n",
    "| Código | Descrição                               |\n",
    "|--------|-----------------------------------------|\n",
    "| `200`  | Análise de áudio para uma faixa         |\n",
    "| `401`  | Não autorizado                          |\n",
    "| `403`  | Proibido                                |\n",
    "| `429`  | Limite de requisições excedido          |\n",
    "\n",
    "### Meta\n",
    "\n",
    "| Campo             | Tipo    | Descrição                                                                                       | Exemplo                         |\n",
    "|-------------------|---------|-------------------------------------------------------------------------------------------------|---------------------------------|\n",
    "| `analyzer_version` | string  | A versão do Analisador usada para analisar esta faixa.                                           | `\"4.0.0\"`                       |\n",
    "| `platform`        | string  | A plataforma usada para ler os dados de áudio da faixa.                                         | `\"Linux\"`                       |\n",
    "| `detailed_status` | string  | Um código de status detalhado para esta faixa. Se os dados de análise estiverem ausentes, esse código pode explicar o motivo. | `\"OK\"`                          |\n",
    "| `status_code`     | integer | O código de retorno do processo de análise. 0 se bem-sucedido, 1 se ocorreram erros.            | `0`                             |\n",
    "| `timestamp`       | integer | O timestamp Unix (em segundos) no qual esta faixa foi analisada.                                | `1495193577`                    |\n",
    "| `analysis_time`   | number  | O tempo gasto para analisar esta faixa.                                                         | `6.93906`                       |\n",
    "| `input_process`   | string  | O método usado para ler os dados de áudio da faixa.                                             | `\"libvorbisfile L+R 44100->22050\"`|\n",
    "\n",
    "### Track\n",
    "\n",
    "| Campo                | Tipo    | Descrição                                                                                                 | Exemplo          |\n",
    "|----------------------|---------|-----------------------------------------------------------------------------------------------------------|------------------|\n",
    "| `num_samples`        | integer | O número exato de amostras de áudio analisadas dessa faixa. Veja também `analysis_sample_rate`.            | `4585515`        |\n",
    "| `duration`           | number  | Duração da faixa em segundos.                                                                              | `207.95985`      |\n",
    "| `sample_md5`         | string  | Este campo sempre conterá uma string vazia.                                                                | `\"\"`             |\n",
    "| `offset_seconds`     | integer | Um deslocamento para o início da região da faixa que foi analisada. (Como toda a faixa é analisada, isso deve sempre ser 0.) | `0`              |\n",
    "| `window_seconds`     | integer | O comprimento da região da faixa analisada, se um subconjunto da faixa foi analisado. (Como toda a faixa é analisada, isso deve sempre ser 0.) | `0`              |\n",
    "| `analysis_sample_rate` | integer | A taxa de amostragem usada para decodificar e analisar esta faixa. Pode diferir da taxa de amostragem real dessa faixa disponível no Spotify. | `22050`          |\n",
    "| `analysis_channels`  | integer | O número de canais usados para análise. Se 1, todos os canais são somados em mono antes da análise.        | `1`              |\n",
    "| `end_of_fade_in`     | number  | O tempo, em segundos, em que o período de fade-in da faixa termina. Se a faixa não tiver fade-in, será 0.0. | `0`              |\n",
    "| `start_of_fade_out`  | number  | O tempo, em segundos, em que o período de fade-out da faixa começa. Se a faixa não tiver fade-out, isso deve corresponder à duração da faixa. | `201.13705`      |\n",
    "| `loudness`           | number  | A intensidade geral de uma faixa em decibéis (dB). Valores de intensidade são geralmente úteis para comparar a intensidade relativa de faixas. Valores normalmente variam entre -60 e 0 dB. | `-5.883`         |\n",
    "| `tempo`              | number  | O ritmo geral estimado de uma faixa em batidas por minuto (BPM).                                          | `118.211`        |\n",
    "| `tempo_confidence`   | number  | A confiança, de 0.0 a 1.0, da confiabilidade do ritmo.                                                     | `0.73`           |\n",
    "| `time_signature`     | integer | Uma assinatura de tempo estimada. A assinatura de tempo (compasso) especifica quantas batidas há em cada compasso (ou medida). A assinatura de tempo varia de 3 a 7, indicando assinaturas de tempo de \"3/4\" a \"7/4\". | `4`              |\n",
    "| `time_signature_confidence` | number | A confiança, de 0.0 a 1.0, da confiabilidade da assinatura de tempo.                                   | `0.994`          |\n",
    "| `key`                | integer | A chave em que a faixa está. Inteiros mapeiam para tons usando a notação de Classe de Tons padrão. Por exemplo, 0 = C, 1 = C♯/D♭, 2 = D, e assim por diante. Se nenhuma chave foi detectada, o valor é -1. | `9`              |\n",
    "| `key_confidence`     | number  | A confiança, de 0.0 a 1.0, da confiabilidade da chave.                                                     | `0.408`          |\n",
    "| `mode`               | integer | O modo indica a modalidade (maior ou menor) de uma faixa, o tipo de escala de onde deriva seu conteúdo melódico. Maior é representado por 1 e menor por 0. | `0`              |\n",
    "| `mode_confidence`    | number  | A confiança, de 0.0 a 1.0, da confiabilidade do modo.                                                     | `0.485`          |\n",
    "\n",
    "A assinatura de tempo varia de 3 a 7, indicando assinaturas de tempo de \"3/4\" a \"7/4\". | `4` |\n",
    "| `time_signature_confidence` | number | A confiança, de 0.0 a 1.0, da confiabilidade da assinatura de tempo. Seções com mudanças de assinatura de tempo podem corresponder a baixos valores neste campo. | `1` |"
   ]
  }
 ],
 "metadata": {
  "kernelspec": {
   "display_name": "Python 3 (ipykernel)",
   "language": "python",
   "name": "python3"
  },
  "language_info": {
   "codemirror_mode": {
    "name": "ipython",
    "version": 3
   },
   "file_extension": ".py",
   "mimetype": "text/x-python",
   "name": "python",
   "nbconvert_exporter": "python",
   "pygments_lexer": "ipython3",
   "version": "3.11.9"
  }
 },
 "nbformat": 4,
 "nbformat_minor": 5
}
